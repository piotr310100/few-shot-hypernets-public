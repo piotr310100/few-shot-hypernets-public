{
 "cells": [
  {
   "cell_type": "code",
   "execution_count": 10,
   "metadata": {
    "collapsed": true
   },
   "outputs": [],
   "source": [
    "import numpy as np\n",
    "import pickle\n",
    "import os\n",
    "from scipy.stats import entropy"
   ]
  },
  {
   "cell_type": "code",
   "execution_count": 11,
   "outputs": [
    {
     "name": "stdout",
     "output_type": "stream",
     "text": [
      "[array([2.26809394, 2.25213875, 2.29048754, 2.29186378, 2.19330214])\n",
      " array([1.86506825, 1.9146496 , 2.06920583, 1.78142632, 2.06436925])\n",
      " array([2.30848492, 2.31376271, 2.29965449, 2.28752415, 2.3048478 ,\n",
      "       2.30045454, 2.30850665, 2.3158761 , 2.30663352, 2.30088655,\n",
      "       2.29462731, 2.28529253, 2.24885702, 2.24945789, 2.25760437,\n",
      "       2.30085196, 2.281234  , 2.31723325, 2.26755396, 2.29946059,\n",
      "       2.26676497, 2.27506364, 2.3002243 , 2.30714474, 2.26203719,\n",
      "       2.24797334, 2.23512182, 2.25909173, 2.29104579, 2.3104209 ,\n",
      "       2.28097074, 2.28720559, 2.30275093, 2.27216702, 2.27344522,\n",
      "       2.28322387, 2.30005674, 2.30584528, 2.29927331, 2.28145142,\n",
      "       2.30953462, 2.28792925, 2.27175469, 2.26333651, 2.29120992,\n",
      "       2.26314305, 2.2805707 , 2.30300079, 2.28997331, 2.27367041,\n",
      "       2.2618257 , 2.29214598, 2.28634964, 2.25110377, 2.31196065,\n",
      "       2.29272962, 2.29572669, 2.27564798, 2.30359187, 2.30669555,\n",
      "       2.2714948 , 2.24651399, 2.29050927, 2.2614357 , 2.06179272,\n",
      "       2.23313346, 2.04806765, 2.20211249, 2.1967425 , 2.2589235 ,\n",
      "       2.135709  , 2.26378044, 2.16840803, 2.19477164, 2.19545402,\n",
      "       2.18577664, 2.14083664, 2.20917765, 2.14221514, 2.21917002])\n",
      " array([1.98422097, 2.0669789 , 2.04540813, 1.85163863, 2.00190557,\n",
      "       1.96418861, 2.09327222, 1.96929756, 1.93540866, 2.04775313,\n",
      "       2.03792502, 1.85839612, 1.86117452, 2.02780754, 1.8834248 ,\n",
      "       2.05343361, 2.17392971, 2.08127019, 2.02316217, 1.9940868 ,\n",
      "       2.08459209, 2.05464061, 2.04580277, 2.18470561, 2.15928009,\n",
      "       2.109867  , 2.08959557, 2.15957738, 2.19108307, 2.1140573 ,\n",
      "       2.13786507, 2.24230015, 2.24257033, 2.16957508, 2.18320297,\n",
      "       2.1868753 , 2.15610796, 2.2259992 , 2.20629428, 2.12942592,\n",
      "       2.14075563, 2.13469883, 2.14958266, 2.15189051, 2.24594541,\n",
      "       2.20061948, 2.16304581, 2.21021213, 1.8537709 , 1.84104422,\n",
      "       1.88278408, 1.96616934, 1.91198667, 1.93299294, 1.91492731,\n",
      "       1.98076612, 1.98864995, 1.93563237, 1.82280336, 2.0575076 ,\n",
      "       2.19402024, 2.02349694, 1.92551753, 1.85813667, 2.29978296,\n",
      "       2.25022849, 2.22193717, 2.23254914, 2.25376493, 2.25084248,\n",
      "       2.23017477, 2.21715935, 2.22483918, 2.25412709, 2.24087983,\n",
      "       2.26237318, 2.23669586, 2.22965746, 2.25259279, 2.25816647])]\n"
     ]
    },
    {
     "name": "stderr",
     "output_type": "stream",
     "text": [
      "C:\\Users\\User\\AppData\\Local\\Temp/ipykernel_29220/1284787240.py:23: VisibleDeprecationWarning: Creating an ndarray from ragged nested sequences (which is a list-or-tuple of lists-or-tuples-or ndarrays with different lengths or shapes) is deprecated. If you meant to do this, you must specify 'dtype=object' when creating the ndarray\n",
      "  all_entropies = np.array([us_entropy,ss_entropy,uq_entropy,sq_entropy])\n"
     ]
    }
   ],
   "source": [
    "# hypermaml\n",
    "sq,uq,ss,us = None,None,None,None\n",
    "\n",
    "with(open('exp_1_data/hyper_maml_fullSeenQuery_DATA','rb')) as fsq:\n",
    "    sq=pickle.load(fsq)\n",
    "with(open('exp_1_data/hyper_maml_fullUnseenQuery_DATA','rb')) as fuq:\n",
    "    uq=pickle.load(fuq)\n",
    "with(open('exp_1_data/hyper_maml_fullSeenSupport_DATA','rb')) as fss:\n",
    "    ss=pickle.load(fss)\n",
    "with(open('exp_1_data/hyper_maml_fullUnseenSupport_DATA','rb')) as fus:\n",
    "    us=pickle.load(fus)\n",
    "\n",
    "ss_mean = np.mean(ss,axis=0,dtype=np.float64)\n",
    "us_mean = np.mean(us,axis=0,dtype=np.float64)\n",
    "sq_mean = np.mean(sq,axis=0,dtype=np.float64)\n",
    "uq_mean = np.mean(uq,axis=0,dtype=np.float64)\n",
    "\n",
    "sq_entropy = entropy(sq_mean,axis=1,base=2)\n",
    "uq_entropy = entropy(uq_mean,axis=1,base=2) # 80 punktow query\n",
    "ss_entropy = entropy(ss_mean,axis=1,base=2) # 5 punktow supportu\n",
    "us_entropy = entropy(us_mean,axis=1,base=2)\n",
    "\n",
    "all_entropies = np.array([us_entropy,ss_entropy,uq_entropy,sq_entropy])\n",
    "# tu masz entropie punktowo dla kazdego odpytujacego punktu\n",
    "print(all_entropies)\n",
    "with(open('./all_entropies_hypermaml','wb')) as f:\n",
    "    pickle.dump(all_entropies,f)"
   ],
   "metadata": {
    "collapsed": false
   }
  },
  {
   "cell_type": "code",
   "execution_count": 12,
   "outputs": [
    {
     "name": "stdout",
     "output_type": "stream",
     "text": [
      "[array([0.99148414, 1.5404266 , 0.07428566, 0.28375625, 0.98126091])\n",
      " array([3.59787496e-02, 2.69157182e-05, 9.88618092e-02, 1.33211688e-03,\n",
      "       2.91350952e-03])\n",
      " array([2.31146330e-01, 5.99159150e-02, 8.18164956e-01, 7.94598185e-02,\n",
      "       2.36009056e-01, 5.22434240e-03, 9.88669818e-01, 2.95623152e-01,\n",
      "       1.87107180e-01, 2.02394355e-01, 3.69494376e-01, 6.08213472e-03,\n",
      "       6.30814720e-01, 2.11022327e-01, 1.52679904e-01, 9.82078196e-01,\n",
      "       1.12947936e+00, 7.48494375e-02, 2.78917109e-01, 7.15299077e-01,\n",
      "       5.25856965e-01, 3.19728136e-01, 5.28608767e-02, 7.13620809e-02,\n",
      "       4.09699597e-01, 5.05843436e-01, 7.61586465e-01, 4.02320216e-01,\n",
      "       2.48957444e-01, 5.97139854e-01, 5.59603485e-01, 2.80802315e-01,\n",
      "       8.91169960e-01, 8.73942244e-03, 9.44298221e-01, 3.61939605e-01,\n",
      "       6.79308023e-02, 1.54010942e-01, 1.71573999e-01, 8.82421371e-01,\n",
      "       2.19632906e-01, 4.77194036e-01, 4.52583855e-02, 1.74712578e-02,\n",
      "       8.24519622e-03, 7.76257339e-02, 1.54793605e+00, 2.63092115e-02,\n",
      "       2.13898871e-02, 4.85742878e-01, 6.43975804e-01, 1.42982403e+00,\n",
      "       6.43871796e-02, 1.17937032e+00, 1.01981622e+00, 1.05900323e+00,\n",
      "       3.70535803e-01, 1.06230294e+00, 1.04980522e+00, 7.71973044e-01,\n",
      "       9.58017918e-01, 2.42761821e-01, 1.13963734e-02, 1.84007180e-01,\n",
      "       4.82239874e-05, 6.54888928e-05, 2.75312773e-06, 1.12250212e-01,\n",
      "       5.56756479e-03, 5.15353779e-03, 8.46168519e-05, 1.22363540e-05,\n",
      "       1.36961964e-05, 4.39557560e-04, 1.61627419e-03, 7.72057572e-03,\n",
      "       2.98717413e-03, 4.22941323e-03, 9.53344403e-04, 3.75444512e-04])\n",
      " array([1.19998822e-03, 2.26473659e-02, 2.40862113e-02, 5.14118653e-02,\n",
      "       1.76724473e-02, 6.06419318e-02, 5.14562597e-02, 1.87629551e-02,\n",
      "       1.16750325e-02, 3.96845249e-01, 1.42445546e-01, 2.09307642e-03,\n",
      "       2.09154467e-02, 1.50430499e-02, 3.40446843e-02, 2.32203297e-02,\n",
      "       4.61635053e-04, 3.05036107e-04, 2.44463420e-04, 1.48628104e-04,\n",
      "       4.61813927e-04, 9.72208975e-04, 5.58680939e-04, 9.53105652e-02,\n",
      "       8.03592028e-03, 5.37614382e-03, 8.69445781e-05, 1.60226495e-04,\n",
      "       1.40906450e-03, 7.57755759e-02, 1.09481051e-02, 1.51942107e-05,\n",
      "       2.20874883e-02, 5.39601951e-01, 1.02948479e-01, 3.56065311e-01,\n",
      "       9.99516469e-01, 9.49986271e-02, 9.86804439e-01, 4.63853084e-01,\n",
      "       3.38987940e-03, 1.61397408e-02, 7.29563867e-03, 8.14346414e-02,\n",
      "       1.98297246e-01, 8.55815951e-02, 1.72662532e-02, 3.08275930e-02,\n",
      "       2.12736948e-02, 2.47314710e-05, 1.83223881e-02, 5.33302048e-04,\n",
      "       6.70755865e-05, 2.65590511e-02, 6.09785572e-04, 1.17984637e-04,\n",
      "       1.10457117e-03, 1.18989018e-02, 4.27498974e-02, 1.69881740e-04,\n",
      "       1.82048380e-03, 1.42784671e-04, 8.42887725e-02, 7.60170171e-03,\n",
      "       8.65013170e-01, 7.98415829e-01, 6.60483303e-01, 1.65764299e-01,\n",
      "       1.00020498e+00, 4.22382066e-01, 4.47364703e-01, 1.31881524e-01,\n",
      "       8.55241566e-01, 9.46514301e-01, 3.51342017e-01, 6.40240128e-01,\n",
      "       4.56971590e-01, 8.75284880e-01, 9.93920744e-01, 8.89264562e-01])]\n"
     ]
    },
    {
     "name": "stderr",
     "output_type": "stream",
     "text": [
      "C:\\Users\\User\\AppData\\Local\\Temp/ipykernel_29220/1305343329.py:23: VisibleDeprecationWarning: Creating an ndarray from ragged nested sequences (which is a list-or-tuple of lists-or-tuples-or ndarrays with different lengths or shapes) is deprecated. If you meant to do this, you must specify 'dtype=object' when creating the ndarray\n",
      "  all_entropies = np.array([us_entropy,ss_entropy,uq_entropy,sq_entropy])\n"
     ]
    }
   ],
   "source": [
    "# fhypermaml\n",
    "sq,uq,ss,us = None,None,None,None\n",
    "\n",
    "with(open('exp_1_data/fhyper_maml_fullSeenQuery_DATA','rb')) as fsq:\n",
    "    sq=pickle.load(fsq)\n",
    "with(open('exp_1_data/fhyper_maml_fullUnseenQuery_DATA','rb')) as fuq:\n",
    "    uq=pickle.load(fuq)\n",
    "with(open('exp_1_data/fhyper_maml_fullSeenSupport_DATA','rb')) as fss:\n",
    "    ss=pickle.load(fss)\n",
    "with(open('exp_1_data/fhyper_maml_fullUnseenSupport_DATA','rb')) as fus:\n",
    "    us=pickle.load(fus)\n",
    "\n",
    "ss_mean = np.mean(ss,axis=0,dtype=np.float64)\n",
    "us_mean = np.mean(us,axis=0,dtype=np.float64)\n",
    "sq_mean = np.mean(sq,axis=0,dtype=np.float64)\n",
    "uq_mean = np.mean(uq,axis=0,dtype=np.float64)\n",
    "\n",
    "sq_entropy = entropy(sq_mean,axis=1,base=2)\n",
    "uq_entropy = entropy(uq_mean,axis=1,base=2) # 80 punktow query\n",
    "ss_entropy = entropy(ss_mean,axis=1,base=2) # 5 punktow supportu\n",
    "us_entropy = entropy(us_mean,axis=1,base=2)\n",
    "\n",
    "all_entropies = np.array([us_entropy,ss_entropy,uq_entropy,sq_entropy])\n",
    "# tu masz entropie punktowo dla kazdego odpytujacego punktu\n",
    "print(all_entropies)\n",
    "with(open('./all_entropies_fhypermaml','wb')) as f:\n",
    "    pickle.dump(all_entropies,f)"
   ],
   "metadata": {
    "collapsed": false
   }
  },
  {
   "cell_type": "code",
   "execution_count": 13,
   "outputs": [
    {
     "name": "stdout",
     "output_type": "stream",
     "text": [
      "[array([2.27914702, 2.23692765, 2.22682829, 2.23827069, 2.27633055])\n",
      " array([1.92696539, 1.85561423, 2.02946491, 1.96576203, 2.05995339])\n",
      " array([2.28406277, 2.22115484, 2.27812775, 2.23499982, 2.24927743,\n",
      "       2.20540932, 2.26065314, 2.27291899, 2.2245483 , 2.24359575,\n",
      "       2.16096184, 2.19944198, 2.25162621, 2.24442504, 2.24147078,\n",
      "       2.22493982, 2.20731335, 2.26785458, 2.25006454, 2.27617796,\n",
      "       2.24242759, 2.26470245, 2.27974054, 2.27417865, 2.25710759,\n",
      "       2.16603166, 2.15603671, 2.26623481, 2.26446676, 2.26498894,\n",
      "       2.25630072, 2.2254466 , 2.28043499, 2.29066656, 2.2086804 ,\n",
      "       2.26181984, 2.22442456, 2.27597122, 2.26540407, 2.27924192,\n",
      "       2.29167116, 2.22063495, 2.28047601, 2.23229966, 2.24847728,\n",
      "       2.2573082 , 2.28379492, 2.24157573, 2.27541838, 2.28572507,\n",
      "       2.25367047, 2.29580092, 2.27351715, 2.26281562, 2.29225033,\n",
      "       2.27991637, 2.25921614, 2.30375805, 2.29745853, 2.29983026,\n",
      "       2.30079661, 2.25269318, 2.23724512, 2.2769337 , 2.21121004,\n",
      "       2.2595065 , 2.25583675, 2.2829474 , 2.24655563, 2.30406639,\n",
      "       2.19923849, 2.19303604, 2.10417958, 2.19133838, 2.29209061,\n",
      "       2.17895878, 2.23842723, 2.248355  , 2.2562379 , 2.22085529])\n",
      " array([2.05565095, 2.10455481, 2.08631386, 2.00421223, 2.07973206,\n",
      "       2.04423785, 2.10968002, 2.10642105, 2.06283022, 2.05972923,\n",
      "       2.01998288, 2.02150039, 1.95022214, 2.0893174 , 1.98220861,\n",
      "       2.05734838, 2.16574263, 2.12414686, 2.05447178, 1.94498299,\n",
      "       2.06643255, 2.00317772, 1.98030654, 2.14607238, 2.07319377,\n",
      "       2.1150558 , 2.12520352, 2.10590305, 2.08801874, 2.12592954,\n",
      "       1.90891765, 2.17644693, 2.24206157, 2.16832719, 2.17040418,\n",
      "       2.20209744, 2.20925981, 2.23104835, 2.20788031, 2.15621219,\n",
      "       2.10421051, 2.18389585, 2.12767502, 2.1646609 , 2.21906909,\n",
      "       2.2332736 , 2.18917933, 2.12753806, 1.91752044, 2.0429327 ,\n",
      "       1.95216   , 1.95494071, 1.97834995, 1.91867467, 1.97939945,\n",
      "       1.98048099, 2.05106058, 2.03352309, 1.90796684, 2.13804061,\n",
      "       2.21178703, 1.97877828, 1.99331279, 2.00733867, 2.20676895,\n",
      "       2.17519541, 2.23716399, 2.21259008, 2.21885024, 2.22681502,\n",
      "       2.21412297, 2.17989606, 2.12077721, 2.20273475, 2.2275398 ,\n",
      "       2.2491954 , 2.17907665, 2.206996  , 2.27628185, 2.2373078 ])]\n"
     ]
    },
    {
     "name": "stderr",
     "output_type": "stream",
     "text": [
      "C:\\Users\\User\\AppData\\Local\\Temp/ipykernel_29220/2152133110.py:24: VisibleDeprecationWarning: Creating an ndarray from ragged nested sequences (which is a list-or-tuple of lists-or-tuples-or ndarrays with different lengths or shapes) is deprecated. If you meant to do this, you must specify 'dtype=object' when creating the ndarray\n",
      "  all_entropies = np.array([us_entropy,ss_entropy,uq_entropy,sq_entropy])\n"
     ]
    }
   ],
   "source": [
    "# bayes_hmaml\n",
    "\n",
    "sq,uq,ss,us = None,None,None,None\n",
    "\n",
    "with(open('exp_1_data/bayes_hmaml_fullSeenQuery_DATA','rb')) as fsq:\n",
    "    sq=pickle.load(fsq)\n",
    "with(open('exp_1_data/bayes_hmaml_fullUnseenQuery_DATA','rb')) as fuq:\n",
    "    uq=pickle.load(fuq)\n",
    "with(open('exp_1_data/bayes_hmaml_fullSeenSupport_DATA','rb')) as fss:\n",
    "    ss=pickle.load(fss)\n",
    "with(open('exp_1_data/bayes_hmaml_fullUnseenSupport_DATA','rb')) as fus:\n",
    "    us=pickle.load(fus)\n",
    "\n",
    "ss_mean = np.mean(ss,axis=0,dtype=np.float64)\n",
    "us_mean = np.mean(us,axis=0,dtype=np.float64)\n",
    "sq_mean = np.mean(sq,axis=0,dtype=np.float64)\n",
    "uq_mean = np.mean(uq,axis=0,dtype=np.float64)\n",
    "\n",
    "sq_entropy = entropy(sq_mean,axis=1,base=2)\n",
    "uq_entropy = entropy(uq_mean,axis=1,base=2) # 80 punktow query\n",
    "ss_entropy = entropy(ss_mean,axis=1,base=2) # 5 punktow supportu\n",
    "us_entropy = entropy(us_mean,axis=1,base=2)\n",
    "\n",
    "all_entropies = np.array([us_entropy,ss_entropy,uq_entropy,sq_entropy])\n",
    "# tu masz entropie punktowo dla kazdego odpytujacego punktu\n",
    "print(all_entropies)\n",
    "with(open('./all_entropies_bayes_hmaml','wb')) as f:\n",
    "    pickle.dump(all_entropies,f)"
   ],
   "metadata": {
    "collapsed": false
   }
  },
  {
   "cell_type": "code",
   "execution_count": 14,
   "outputs": [],
   "source": [
    "with(open('./all_entropies_fhypermaml','rb')) as f:\n",
    "    _us_entropy,_ss_entropy,_uq_entropy,_sq_entropy = pickle.load(f)\n"
   ],
   "metadata": {
    "collapsed": false
   }
  },
  {
   "cell_type": "code",
   "execution_count": 15,
   "outputs": [
    {
     "data": {
      "text/plain": "array([3.59787496e-02, 2.69157182e-05, 9.88618092e-02, 1.33211688e-03,\n       2.91350952e-03])"
     },
     "execution_count": 15,
     "metadata": {},
     "output_type": "execute_result"
    }
   ],
   "source": [
    "_ss_entropy"
   ],
   "metadata": {
    "collapsed": false
   }
  },
  {
   "cell_type": "code",
   "execution_count": 16,
   "outputs": [
    {
     "data": {
      "text/plain": "array([0.99148414, 1.5404266 , 0.07428566, 0.28375625, 0.98126091])"
     },
     "execution_count": 16,
     "metadata": {},
     "output_type": "execute_result"
    }
   ],
   "source": [
    "_us_entropy"
   ],
   "metadata": {
    "collapsed": false
   }
  },
  {
   "cell_type": "code",
   "execution_count": 17,
   "outputs": [
    {
     "data": {
      "text/plain": "array([1.19998822e-03, 2.26473659e-02, 2.40862113e-02, 5.14118653e-02,\n       1.76724473e-02, 6.06419318e-02, 5.14562597e-02, 1.87629551e-02,\n       1.16750325e-02, 3.96845249e-01, 1.42445546e-01, 2.09307642e-03,\n       2.09154467e-02, 1.50430499e-02, 3.40446843e-02, 2.32203297e-02,\n       4.61635053e-04, 3.05036107e-04, 2.44463420e-04, 1.48628104e-04,\n       4.61813927e-04, 9.72208975e-04, 5.58680939e-04, 9.53105652e-02,\n       8.03592028e-03, 5.37614382e-03, 8.69445781e-05, 1.60226495e-04,\n       1.40906450e-03, 7.57755759e-02, 1.09481051e-02, 1.51942107e-05,\n       2.20874883e-02, 5.39601951e-01, 1.02948479e-01, 3.56065311e-01,\n       9.99516469e-01, 9.49986271e-02, 9.86804439e-01, 4.63853084e-01,\n       3.38987940e-03, 1.61397408e-02, 7.29563867e-03, 8.14346414e-02,\n       1.98297246e-01, 8.55815951e-02, 1.72662532e-02, 3.08275930e-02,\n       2.12736948e-02, 2.47314710e-05, 1.83223881e-02, 5.33302048e-04,\n       6.70755865e-05, 2.65590511e-02, 6.09785572e-04, 1.17984637e-04,\n       1.10457117e-03, 1.18989018e-02, 4.27498974e-02, 1.69881740e-04,\n       1.82048380e-03, 1.42784671e-04, 8.42887725e-02, 7.60170171e-03,\n       8.65013170e-01, 7.98415829e-01, 6.60483303e-01, 1.65764299e-01,\n       1.00020498e+00, 4.22382066e-01, 4.47364703e-01, 1.31881524e-01,\n       8.55241566e-01, 9.46514301e-01, 3.51342017e-01, 6.40240128e-01,\n       4.56971590e-01, 8.75284880e-01, 9.93920744e-01, 8.89264562e-01])"
     },
     "execution_count": 17,
     "metadata": {},
     "output_type": "execute_result"
    }
   ],
   "source": [
    "_sq_entropy"
   ],
   "metadata": {
    "collapsed": false
   }
  },
  {
   "cell_type": "code",
   "execution_count": 18,
   "outputs": [
    {
     "data": {
      "text/plain": "array([2.31146330e-01, 5.99159150e-02, 8.18164956e-01, 7.94598185e-02,\n       2.36009056e-01, 5.22434240e-03, 9.88669818e-01, 2.95623152e-01,\n       1.87107180e-01, 2.02394355e-01, 3.69494376e-01, 6.08213472e-03,\n       6.30814720e-01, 2.11022327e-01, 1.52679904e-01, 9.82078196e-01,\n       1.12947936e+00, 7.48494375e-02, 2.78917109e-01, 7.15299077e-01,\n       5.25856965e-01, 3.19728136e-01, 5.28608767e-02, 7.13620809e-02,\n       4.09699597e-01, 5.05843436e-01, 7.61586465e-01, 4.02320216e-01,\n       2.48957444e-01, 5.97139854e-01, 5.59603485e-01, 2.80802315e-01,\n       8.91169960e-01, 8.73942244e-03, 9.44298221e-01, 3.61939605e-01,\n       6.79308023e-02, 1.54010942e-01, 1.71573999e-01, 8.82421371e-01,\n       2.19632906e-01, 4.77194036e-01, 4.52583855e-02, 1.74712578e-02,\n       8.24519622e-03, 7.76257339e-02, 1.54793605e+00, 2.63092115e-02,\n       2.13898871e-02, 4.85742878e-01, 6.43975804e-01, 1.42982403e+00,\n       6.43871796e-02, 1.17937032e+00, 1.01981622e+00, 1.05900323e+00,\n       3.70535803e-01, 1.06230294e+00, 1.04980522e+00, 7.71973044e-01,\n       9.58017918e-01, 2.42761821e-01, 1.13963734e-02, 1.84007180e-01,\n       4.82239874e-05, 6.54888928e-05, 2.75312773e-06, 1.12250212e-01,\n       5.56756479e-03, 5.15353779e-03, 8.46168519e-05, 1.22363540e-05,\n       1.36961964e-05, 4.39557560e-04, 1.61627419e-03, 7.72057572e-03,\n       2.98717413e-03, 4.22941323e-03, 9.53344403e-04, 3.75444512e-04])"
     },
     "execution_count": 18,
     "metadata": {},
     "output_type": "execute_result"
    }
   ],
   "source": [
    "_uq_entropy"
   ],
   "metadata": {
    "collapsed": false
   }
  }
 ],
 "metadata": {
  "kernelspec": {
   "name": "pycharm-6ccb0679",
   "language": "python",
   "display_name": "PyCharm (podstawy_sztucznej_inteligencji)"
  },
  "language_info": {
   "codemirror_mode": {
    "name": "ipython",
    "version": 2
   },
   "file_extension": ".py",
   "mimetype": "text/x-python",
   "name": "python",
   "nbconvert_exporter": "python",
   "pygments_lexer": "ipython2",
   "version": "2.7.6"
  }
 },
 "nbformat": 4,
 "nbformat_minor": 0
}
